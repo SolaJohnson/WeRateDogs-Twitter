{
 "cells": [
  {
   "cell_type": "markdown",
   "metadata": {
    "extensions": {
     "jupyter_dashboards": {
      "version": 1,
      "views": {
       "grid_default": {
        "col": 0,
        "height": 4,
        "hidden": false,
        "row": 0,
        "width": 4
       },
       "report_default": {
        "hidden": false
       }
      }
     }
    }
   },
   "source": [
    "# Project WeRateDogs: Wrangling and Analyze Data"
   ]
  },
  {
   "cell_type": "markdown",
   "metadata": {},
   "source": [
    "## Data Gathering\n",
    "\n",
    "1. Directly downloaded the WeRateDogs Twitter archive data (twitter_archive_enhanced.csv)"
   ]
  },
  {
   "cell_type": "code",
   "execution_count": 1,
   "metadata": {
    "extensions": {
     "jupyter_dashboards": {
      "version": 1,
      "views": {
       "grid_default": {
        "hidden": true
       },
       "report_default": {
        "hidden": true
       }
      }
     }
    }
   },
   "outputs": [],
   "source": [
    "import pandas as pd\n",
    "\n",
    "twitter_archive_enhanced = pd.read_csv('twitter_archive_enhanced.csv')"
   ]
  },
  {
   "cell_type": "markdown",
   "metadata": {},
   "source": [
    "2. Used the Requests library to download the tweet image prediction (image_predictions.tsv)"
   ]
  },
  {
   "cell_type": "code",
   "execution_count": 2,
   "metadata": {},
   "outputs": [],
   "source": [
    "import requests\n",
    "\n",
    "url = 'https://d17h27t6h515a5.cloudfront.net/topher/2017/August/599fd2ad_image-predictions/image-predictions.tsv'\n",
    "response = requests.get(url)\n",
    "\n",
    "#save HTML to TSV file\n",
    "with open('image_predictions.tsv', mode = 'wb') as file:\n",
    "    file.write(response.content)\n",
    "\n",
    "#read file as DataFrame\n",
    "image_predictions = pd.read_csv('image_predictions.tsv', sep='\\t')"
   ]
  },
  {
   "cell_type": "markdown",
   "metadata": {},
   "source": [
    "3. Used the Tweepy library to query additional data via the Twitter API (tweet_json.txt)"
   ]
  },
  {
   "cell_type": "code",
   "execution_count": 3,
   "metadata": {},
   "outputs": [],
   "source": [
    "import json\n",
    "\n",
    "# List of dictionaries to build file by file and later convert to a DataFrame\n",
    "df_list = []\n",
    "\n",
    "with open('tweet_json.txt') as file:\n",
    "    \n",
    "    #iterate through each line in the open file\n",
    "    for line in file:\n",
    "        tweet = file.readline()\n",
    "    \n",
    "        #convert txt to dictionary\n",
    "        dict_tweet = json.loads(tweet)\n",
    "    \n",
    "        tweet_ID = dict_tweet.get('id')\n",
    "        retweet_count = dict_tweet.get('retweet_count')\n",
    "        favorite_count = dict_tweet.get('favorite_count')\n",
    "    \n",
    "        #Append to list of dictionaries\n",
    "        df_list.append({'tweet_ID' : tweet_ID,\n",
    "                     'retweet_count' : retweet_count,\n",
    "                     'favorite_count' : favorite_count})\n",
    "\n",
    "#convert list into dataframe\n",
    "tweet = pd.DataFrame(df_list, columns = ['tweet_ID','retweet_count','favorite_count'])"
   ]
  },
  {
   "cell_type": "markdown",
   "metadata": {
    "extensions": {
     "jupyter_dashboards": {
      "version": 1,
      "views": {
       "grid_default": {
        "col": 4,
        "height": 4,
        "hidden": false,
        "row": 28,
        "width": 4
       },
       "report_default": {
        "hidden": false
       }
      }
     }
    }
   },
   "source": [
    "## Assessing Data\n"
   ]
  },
  {
   "cell_type": "code",
   "execution_count": 4,
   "metadata": {
    "scrolled": true
   },
   "outputs": [
    {
     "data": {
      "text/html": [
       "<div>\n",
       "<style scoped>\n",
       "    .dataframe tbody tr th:only-of-type {\n",
       "        vertical-align: middle;\n",
       "    }\n",
       "\n",
       "    .dataframe tbody tr th {\n",
       "        vertical-align: top;\n",
       "    }\n",
       "\n",
       "    .dataframe thead th {\n",
       "        text-align: right;\n",
       "    }\n",
       "</style>\n",
       "<table border=\"1\" class=\"dataframe\">\n",
       "  <thead>\n",
       "    <tr style=\"text-align: right;\">\n",
       "      <th></th>\n",
       "      <th>tweet_id</th>\n",
       "      <th>in_reply_to_status_id</th>\n",
       "      <th>in_reply_to_user_id</th>\n",
       "      <th>timestamp</th>\n",
       "      <th>source</th>\n",
       "      <th>text</th>\n",
       "      <th>retweeted_status_id</th>\n",
       "      <th>retweeted_status_user_id</th>\n",
       "      <th>retweeted_status_timestamp</th>\n",
       "      <th>expanded_urls</th>\n",
       "      <th>rating_numerator</th>\n",
       "      <th>rating_denominator</th>\n",
       "      <th>name</th>\n",
       "      <th>doggo</th>\n",
       "      <th>floofer</th>\n",
       "      <th>pupper</th>\n",
       "      <th>puppo</th>\n",
       "    </tr>\n",
       "  </thead>\n",
       "  <tbody>\n",
       "    <tr>\n",
       "      <th>0</th>\n",
       "      <td>892420643555336193</td>\n",
       "      <td>NaN</td>\n",
       "      <td>NaN</td>\n",
       "      <td>2017-08-01 16:23:56 +0000</td>\n",
       "      <td>&lt;a href=\"http://twitter.com/download/iphone\" r...</td>\n",
       "      <td>This is Phineas. He's a mystical boy. Only eve...</td>\n",
       "      <td>NaN</td>\n",
       "      <td>NaN</td>\n",
       "      <td>NaN</td>\n",
       "      <td>https://twitter.com/dog_rates/status/892420643...</td>\n",
       "      <td>13</td>\n",
       "      <td>10</td>\n",
       "      <td>Phineas</td>\n",
       "      <td>None</td>\n",
       "      <td>None</td>\n",
       "      <td>None</td>\n",
       "      <td>None</td>\n",
       "    </tr>\n",
       "    <tr>\n",
       "      <th>1</th>\n",
       "      <td>892177421306343426</td>\n",
       "      <td>NaN</td>\n",
       "      <td>NaN</td>\n",
       "      <td>2017-08-01 00:17:27 +0000</td>\n",
       "      <td>&lt;a href=\"http://twitter.com/download/iphone\" r...</td>\n",
       "      <td>This is Tilly. She's just checking pup on you....</td>\n",
       "      <td>NaN</td>\n",
       "      <td>NaN</td>\n",
       "      <td>NaN</td>\n",
       "      <td>https://twitter.com/dog_rates/status/892177421...</td>\n",
       "      <td>13</td>\n",
       "      <td>10</td>\n",
       "      <td>Tilly</td>\n",
       "      <td>None</td>\n",
       "      <td>None</td>\n",
       "      <td>None</td>\n",
       "      <td>None</td>\n",
       "    </tr>\n",
       "  </tbody>\n",
       "</table>\n",
       "</div>"
      ],
      "text/plain": [
       "             tweet_id  in_reply_to_status_id  in_reply_to_user_id  \\\n",
       "0  892420643555336193                    NaN                  NaN   \n",
       "1  892177421306343426                    NaN                  NaN   \n",
       "\n",
       "                   timestamp  \\\n",
       "0  2017-08-01 16:23:56 +0000   \n",
       "1  2017-08-01 00:17:27 +0000   \n",
       "\n",
       "                                              source  \\\n",
       "0  <a href=\"http://twitter.com/download/iphone\" r...   \n",
       "1  <a href=\"http://twitter.com/download/iphone\" r...   \n",
       "\n",
       "                                                text  retweeted_status_id  \\\n",
       "0  This is Phineas. He's a mystical boy. Only eve...                  NaN   \n",
       "1  This is Tilly. She's just checking pup on you....                  NaN   \n",
       "\n",
       "   retweeted_status_user_id retweeted_status_timestamp  \\\n",
       "0                       NaN                        NaN   \n",
       "1                       NaN                        NaN   \n",
       "\n",
       "                                       expanded_urls  rating_numerator  \\\n",
       "0  https://twitter.com/dog_rates/status/892420643...                13   \n",
       "1  https://twitter.com/dog_rates/status/892177421...                13   \n",
       "\n",
       "   rating_denominator     name doggo floofer pupper puppo  \n",
       "0                  10  Phineas  None    None   None  None  \n",
       "1                  10    Tilly  None    None   None  None  "
      ]
     },
     "execution_count": 4,
     "metadata": {},
     "output_type": "execute_result"
    }
   ],
   "source": [
    "twitter_archive_enhanced.head(2)"
   ]
  },
  {
   "cell_type": "code",
   "execution_count": 5,
   "metadata": {},
   "outputs": [
    {
     "data": {
      "text/html": [
       "<div>\n",
       "<style scoped>\n",
       "    .dataframe tbody tr th:only-of-type {\n",
       "        vertical-align: middle;\n",
       "    }\n",
       "\n",
       "    .dataframe tbody tr th {\n",
       "        vertical-align: top;\n",
       "    }\n",
       "\n",
       "    .dataframe thead th {\n",
       "        text-align: right;\n",
       "    }\n",
       "</style>\n",
       "<table border=\"1\" class=\"dataframe\">\n",
       "  <thead>\n",
       "    <tr style=\"text-align: right;\">\n",
       "      <th></th>\n",
       "      <th>tweet_id</th>\n",
       "      <th>jpg_url</th>\n",
       "      <th>img_num</th>\n",
       "      <th>p1</th>\n",
       "      <th>p1_conf</th>\n",
       "      <th>p1_dog</th>\n",
       "      <th>p2</th>\n",
       "      <th>p2_conf</th>\n",
       "      <th>p2_dog</th>\n",
       "      <th>p3</th>\n",
       "      <th>p3_conf</th>\n",
       "      <th>p3_dog</th>\n",
       "    </tr>\n",
       "  </thead>\n",
       "  <tbody>\n",
       "    <tr>\n",
       "      <th>251</th>\n",
       "      <td>670704688707301377</td>\n",
       "      <td>https://pbs.twimg.com/media/CU7SW39WwAAL8Rw.jpg</td>\n",
       "      <td>1</td>\n",
       "      <td>Norwich_terrier</td>\n",
       "      <td>0.419838</td>\n",
       "      <td>True</td>\n",
       "      <td>cairn</td>\n",
       "      <td>0.351876</td>\n",
       "      <td>True</td>\n",
       "      <td>Norfolk_terrier</td>\n",
       "      <td>0.051094</td>\n",
       "      <td>True</td>\n",
       "    </tr>\n",
       "    <tr>\n",
       "      <th>112</th>\n",
       "      <td>667911425562669056</td>\n",
       "      <td>https://pbs.twimg.com/media/CUTl5m1WUAAabZG.jpg</td>\n",
       "      <td>1</td>\n",
       "      <td>frilled_lizard</td>\n",
       "      <td>0.257695</td>\n",
       "      <td>False</td>\n",
       "      <td>ox</td>\n",
       "      <td>0.235160</td>\n",
       "      <td>False</td>\n",
       "      <td>triceratops</td>\n",
       "      <td>0.085317</td>\n",
       "      <td>False</td>\n",
       "    </tr>\n",
       "    <tr>\n",
       "      <th>1727</th>\n",
       "      <td>820446719150292993</td>\n",
       "      <td>https://pbs.twimg.com/media/CxqsX-8XUAAEvjD.jpg</td>\n",
       "      <td>3</td>\n",
       "      <td>golden_retriever</td>\n",
       "      <td>0.938048</td>\n",
       "      <td>True</td>\n",
       "      <td>kuvasz</td>\n",
       "      <td>0.025119</td>\n",
       "      <td>True</td>\n",
       "      <td>Labrador_retriever</td>\n",
       "      <td>0.022977</td>\n",
       "      <td>True</td>\n",
       "    </tr>\n",
       "  </tbody>\n",
       "</table>\n",
       "</div>"
      ],
      "text/plain": [
       "                tweet_id                                          jpg_url  \\\n",
       "251   670704688707301377  https://pbs.twimg.com/media/CU7SW39WwAAL8Rw.jpg   \n",
       "112   667911425562669056  https://pbs.twimg.com/media/CUTl5m1WUAAabZG.jpg   \n",
       "1727  820446719150292993  https://pbs.twimg.com/media/CxqsX-8XUAAEvjD.jpg   \n",
       "\n",
       "      img_num                p1   p1_conf  p1_dog      p2   p2_conf  p2_dog  \\\n",
       "251         1   Norwich_terrier  0.419838    True   cairn  0.351876    True   \n",
       "112         1    frilled_lizard  0.257695   False      ox  0.235160   False   \n",
       "1727        3  golden_retriever  0.938048    True  kuvasz  0.025119    True   \n",
       "\n",
       "                      p3   p3_conf  p3_dog  \n",
       "251      Norfolk_terrier  0.051094    True  \n",
       "112          triceratops  0.085317   False  \n",
       "1727  Labrador_retriever  0.022977    True  "
      ]
     },
     "execution_count": 5,
     "metadata": {},
     "output_type": "execute_result"
    }
   ],
   "source": [
    "image_predictions.sample(3)"
   ]
  },
  {
   "cell_type": "code",
   "execution_count": 6,
   "metadata": {},
   "outputs": [
    {
     "data": {
      "text/html": [
       "<div>\n",
       "<style scoped>\n",
       "    .dataframe tbody tr th:only-of-type {\n",
       "        vertical-align: middle;\n",
       "    }\n",
       "\n",
       "    .dataframe tbody tr th {\n",
       "        vertical-align: top;\n",
       "    }\n",
       "\n",
       "    .dataframe thead th {\n",
       "        text-align: right;\n",
       "    }\n",
       "</style>\n",
       "<table border=\"1\" class=\"dataframe\">\n",
       "  <thead>\n",
       "    <tr style=\"text-align: right;\">\n",
       "      <th></th>\n",
       "      <th>tweet_ID</th>\n",
       "      <th>retweet_count</th>\n",
       "      <th>favorite_count</th>\n",
       "    </tr>\n",
       "  </thead>\n",
       "  <tbody>\n",
       "    <tr>\n",
       "      <th>669</th>\n",
       "      <td>704847917308362754</td>\n",
       "      <td>1727</td>\n",
       "      <td>5594</td>\n",
       "    </tr>\n",
       "    <tr>\n",
       "      <th>1125</th>\n",
       "      <td>667793409583771648</td>\n",
       "      <td>358</td>\n",
       "      <td>736</td>\n",
       "    </tr>\n",
       "    <tr>\n",
       "      <th>941</th>\n",
       "      <td>674793399141146624</td>\n",
       "      <td>1225</td>\n",
       "      <td>2697</td>\n",
       "    </tr>\n",
       "  </tbody>\n",
       "</table>\n",
       "</div>"
      ],
      "text/plain": [
       "                tweet_ID  retweet_count  favorite_count\n",
       "669   704847917308362754           1727            5594\n",
       "1125  667793409583771648            358             736\n",
       "941   674793399141146624           1225            2697"
      ]
     },
     "execution_count": 6,
     "metadata": {},
     "output_type": "execute_result"
    }
   ],
   "source": [
    "tweet.sample(3)"
   ]
  },
  {
   "cell_type": "markdown",
   "metadata": {},
   "source": [
    "### Quality issues\n",
    "1. `twitter_archive_enhanced` table - some missing dog name\n",
    "\n",
    "2. `twitter_archive_enhanced` table - timestamp column is object\n",
    "\n",
    "3. `twitter_archive_enhanced` table - retweeted_status_timestamp column is object\n",
    "\n",
    "4. `twitter_archive_enhanced` table - some missing dog type\n",
    "\n",
    "5. `twitter_archive_enhanced` table - some dog names are articles(a,an,the)\n",
    "\n",
    "6. `twitter_archive_enhanced` table - some rating_numerators are far greater than 10 (e.g 1776, 960, 666, etc)\n",
    "\n",
    "7. `twitter_archive_enhanced` table - some rating_denominators are far greater than 10 (e.g 170, 150, 130, etc)\n",
    "\n",
    "8. `twitter_archive_enhanced` table - some expanded_urls are not twitter domain names(e.g with tweet_id = 890971913173991426\t)\n",
    "\n",
    "9. `image_predictions` table - lower case given names of predictions(p1,p2 & p3)\n",
    "\n",
    "10. `image_predictions` table - some predicitons are objects(p1,p2 & p3)\n",
    "\n",
    "11. `tweet` table - some favorite_count are 0s in comparison to their retweet count(e.g with tweet_id = 776819012571455488)\n"
   ]
  },
  {
   "cell_type": "markdown",
   "metadata": {
    "extensions": {
     "jupyter_dashboards": {
      "version": 1,
      "views": {
       "grid_default": {
        "col": 0,
        "height": 7,
        "hidden": false,
        "row": 40,
        "width": 12
       },
       "report_default": {
        "hidden": false
       }
      }
     }
    }
   },
   "source": [
    "### Tidiness issues\n",
    "1. `image_prediction` table - Some column headers are values and not variable names (p1, p2, p3)\n",
    "\n",
    "2. `twitter_archive_enhanced` table - One variable in Four columns (doggo, floofer, pupper, puppo)\n",
    "\n"
   ]
  },
  {
   "cell_type": "markdown",
   "metadata": {
    "extensions": {
     "jupyter_dashboards": {
      "version": 1,
      "views": {
       "grid_default": {
        "col": 4,
        "height": 4,
        "hidden": false,
        "row": 32,
        "width": 4
       },
       "report_default": {
        "hidden": false
       }
      }
     }
    }
   },
   "source": [
    "## Cleaning Data\n"
   ]
  },
  {
   "cell_type": "code",
   "execution_count": 7,
   "metadata": {},
   "outputs": [],
   "source": [
    "# Make copies of original pieces of data\n",
    "image_predictions_clean = image_predictions.copy()\n",
    "twitter_archive_enhanced_clean = twitter_archive_enhanced.copy()\n",
    "tweet_clean = tweet.copy()"
   ]
  },
  {
   "cell_type": "markdown",
   "metadata": {},
   "source": [
    "### Issue #1:"
   ]
  },
  {
   "cell_type": "markdown",
   "metadata": {},
   "source": [
    "#### Define:\n",
    "<ul><li>remove all retweet rows\n",
    "    <li>drop these columns: in_reply_to_status_id, in_reply_to_user_id, retweeted_status_id, retweeted_status_user_id, retweeted_status_timestamp\n",
    "    <li>remove rows with missing dog names\n",
    "    <li>change all timestamp datatype to datetime\n",
    "    <li>reduce the 4 columns(doggo, floffer, pupper, puppo) to 1 column\n",
    "    <li>drop rows with missing dog type\n",
    "    <li>divide numerator and denominator rating and put result in one column\n",
    "\n",
    "    \n"
   ]
  },
  {
   "cell_type": "markdown",
   "metadata": {},
   "source": [
    "#### Define\n",
    "remove all retweet rows and drop the retweet-related columns"
   ]
  },
  {
   "cell_type": "markdown",
   "metadata": {},
   "source": [
    "#### Code"
   ]
  },
  {
   "cell_type": "code",
   "execution_count": 8,
   "metadata": {},
   "outputs": [],
   "source": [
    "#subset the dataframe where retweeted_status_id is null\n",
    "twitter_archive_enhanced_clean = twitter_archive_enhanced_clean[twitter_archive_enhanced_clean['retweeted_status_id'].isnull()]\n",
    "\n",
    "#remove replies to original tweets where in_reply_to_status_id is null\n",
    "twitter_archive_enhanced_clean = twitter_archive_enhanced_clean[twitter_archive_enhanced_clean['in_reply_to_status_id'].isnull()]"
   ]
  },
  {
   "cell_type": "code",
   "execution_count": 9,
   "metadata": {},
   "outputs": [],
   "source": [
    "#drop the retweet-related columns\n",
    "twitter_archive_enhanced_clean = twitter_archive_enhanced_clean.drop('retweeted_status_id', axis=1)\n",
    "twitter_archive_enhanced_clean = twitter_archive_enhanced_clean.drop('retweeted_status_user_id', axis=1)\n",
    "\n",
    "twitter_archive_enhanced_clean = twitter_archive_enhanced_clean.drop('retweeted_status_timestamp', axis=1)\n",
    "\n",
    "twitter_archive_enhanced_clean = twitter_archive_enhanced_clean.drop('in_reply_to_status_id', axis=1)\n",
    "twitter_archive_enhanced_clean = twitter_archive_enhanced_clean.drop('in_reply_to_user_id', axis=1)"
   ]
  },
  {
   "cell_type": "markdown",
   "metadata": {},
   "source": [
    "#### Test"
   ]
  },
  {
   "cell_type": "code",
   "execution_count": 10,
   "metadata": {},
   "outputs": [
    {
     "data": {
      "text/plain": [
       "Index(['tweet_id', 'timestamp', 'source', 'text', 'expanded_urls',\n",
       "       'rating_numerator', 'rating_denominator', 'name', 'doggo', 'floofer',\n",
       "       'pupper', 'puppo'],\n",
       "      dtype='object')"
      ]
     },
     "execution_count": 10,
     "metadata": {},
     "output_type": "execute_result"
    }
   ],
   "source": [
    "twitter_archive_enhanced_clean.columns"
   ]
  },
  {
   "cell_type": "markdown",
   "metadata": {},
   "source": [
    "#### Define\n",
    "replace the anchor tag with the text under the source column in the twitter_archive_enhanced table"
   ]
  },
  {
   "cell_type": "markdown",
   "metadata": {},
   "source": [
    "#### Code"
   ]
  },
  {
   "cell_type": "code",
   "execution_count": 11,
   "metadata": {},
   "outputs": [],
   "source": [
    "#function to correct source column in twitter_archive_enhanced table\n",
    "def source_corr(x):\n",
    "    if x == '<a href=\"http://twitter.com/download/iphone\" rel=\"nofollow\">Twitter for iPhone</a>' :\n",
    "        return 'iPhone'\n",
    "    elif x == '<a href=\"http://vine.co\" rel=\"nofollow\">Vine - Make a Scene</a>' :\n",
    "        return 'Vine-Make a Scene'\n",
    "    elif x == '<a href=\"http://twitter.com\" rel=\"nofollow\">Twitter Web Client</a>' :\n",
    "        return 'Web-Client' \n",
    "    elif x == '<a href=\"https://about.twitter.com/products/tweetdeck\" rel=\"nofollow\">TweetDeck</a>' :\n",
    "        return 'Tweet-Deck'     \n",
    "    else:\n",
    "        return 'Unkwown'\n",
    "\n",
    "#apply function\n",
    "twitter_archive_enhanced_clean['source'] = twitter_archive_enhanced_clean['source'].apply(source_corr)"
   ]
  },
  {
   "cell_type": "markdown",
   "metadata": {},
   "source": [
    "#### Test"
   ]
  },
  {
   "cell_type": "code",
   "execution_count": 12,
   "metadata": {},
   "outputs": [
    {
     "data": {
      "text/plain": [
       "iPhone               1964\n",
       "Vine-Make a Scene      91\n",
       "Web-Client             31\n",
       "Tweet-Deck             11\n",
       "Name: source, dtype: int64"
      ]
     },
     "execution_count": 12,
     "metadata": {},
     "output_type": "execute_result"
    }
   ],
   "source": [
    "twitter_archive_enhanced_clean.source.value_counts()"
   ]
  },
  {
   "cell_type": "markdown",
   "metadata": {},
   "source": [
    "#### Define \n",
    "drop unwanted columns"
   ]
  },
  {
   "cell_type": "markdown",
   "metadata": {},
   "source": [
    "#### Code"
   ]
  },
  {
   "cell_type": "code",
   "execution_count": 13,
   "metadata": {},
   "outputs": [],
   "source": [
    "twitter_archive_enhanced_clean = twitter_archive_enhanced_clean.drop('text', axis=1)\n",
    "twitter_archive_enhanced_clean = twitter_archive_enhanced_clean.drop('expanded_urls', axis=1)\n",
    "twitter_archive_enhanced_clean = twitter_archive_enhanced_clean.drop('name', axis=1)"
   ]
  },
  {
   "cell_type": "markdown",
   "metadata": {},
   "source": [
    "#### Test"
   ]
  },
  {
   "cell_type": "code",
   "execution_count": 14,
   "metadata": {},
   "outputs": [
    {
     "data": {
      "text/html": [
       "<div>\n",
       "<style scoped>\n",
       "    .dataframe tbody tr th:only-of-type {\n",
       "        vertical-align: middle;\n",
       "    }\n",
       "\n",
       "    .dataframe tbody tr th {\n",
       "        vertical-align: top;\n",
       "    }\n",
       "\n",
       "    .dataframe thead th {\n",
       "        text-align: right;\n",
       "    }\n",
       "</style>\n",
       "<table border=\"1\" class=\"dataframe\">\n",
       "  <thead>\n",
       "    <tr style=\"text-align: right;\">\n",
       "      <th></th>\n",
       "      <th>tweet_id</th>\n",
       "      <th>timestamp</th>\n",
       "      <th>source</th>\n",
       "      <th>rating_numerator</th>\n",
       "      <th>rating_denominator</th>\n",
       "      <th>doggo</th>\n",
       "      <th>floofer</th>\n",
       "      <th>pupper</th>\n",
       "      <th>puppo</th>\n",
       "    </tr>\n",
       "  </thead>\n",
       "  <tbody>\n",
       "    <tr>\n",
       "      <th>0</th>\n",
       "      <td>892420643555336193</td>\n",
       "      <td>2017-08-01 16:23:56 +0000</td>\n",
       "      <td>iPhone</td>\n",
       "      <td>13</td>\n",
       "      <td>10</td>\n",
       "      <td>None</td>\n",
       "      <td>None</td>\n",
       "      <td>None</td>\n",
       "      <td>None</td>\n",
       "    </tr>\n",
       "    <tr>\n",
       "      <th>1</th>\n",
       "      <td>892177421306343426</td>\n",
       "      <td>2017-08-01 00:17:27 +0000</td>\n",
       "      <td>iPhone</td>\n",
       "      <td>13</td>\n",
       "      <td>10</td>\n",
       "      <td>None</td>\n",
       "      <td>None</td>\n",
       "      <td>None</td>\n",
       "      <td>None</td>\n",
       "    </tr>\n",
       "    <tr>\n",
       "      <th>2</th>\n",
       "      <td>891815181378084864</td>\n",
       "      <td>2017-07-31 00:18:03 +0000</td>\n",
       "      <td>iPhone</td>\n",
       "      <td>12</td>\n",
       "      <td>10</td>\n",
       "      <td>None</td>\n",
       "      <td>None</td>\n",
       "      <td>None</td>\n",
       "      <td>None</td>\n",
       "    </tr>\n",
       "  </tbody>\n",
       "</table>\n",
       "</div>"
      ],
      "text/plain": [
       "             tweet_id                  timestamp  source  rating_numerator  \\\n",
       "0  892420643555336193  2017-08-01 16:23:56 +0000  iPhone                13   \n",
       "1  892177421306343426  2017-08-01 00:17:27 +0000  iPhone                13   \n",
       "2  891815181378084864  2017-07-31 00:18:03 +0000  iPhone                12   \n",
       "\n",
       "   rating_denominator doggo floofer pupper puppo  \n",
       "0                  10  None    None   None  None  \n",
       "1                  10  None    None   None  None  \n",
       "2                  10  None    None   None  None  "
      ]
     },
     "execution_count": 14,
     "metadata": {},
     "output_type": "execute_result"
    }
   ],
   "source": [
    "twitter_archive_enhanced_clean.head(3)"
   ]
  },
  {
   "cell_type": "markdown",
   "metadata": {},
   "source": [
    "#### Define\n",
    "change timestamp column to dateframe datatype"
   ]
  },
  {
   "cell_type": "markdown",
   "metadata": {},
   "source": [
    "#### Code"
   ]
  },
  {
   "cell_type": "code",
   "execution_count": 15,
   "metadata": {},
   "outputs": [],
   "source": [
    "twitter_archive_enhanced_clean['timestamp'] = pd.to_datetime(twitter_archive_enhanced_clean['timestamp'])"
   ]
  },
  {
   "cell_type": "markdown",
   "metadata": {},
   "source": [
    "#### Test"
   ]
  },
  {
   "cell_type": "code",
   "execution_count": 16,
   "metadata": {},
   "outputs": [
    {
     "data": {
      "text/plain": [
       "dtype('<M8[ns]')"
      ]
     },
     "execution_count": 16,
     "metadata": {},
     "output_type": "execute_result"
    }
   ],
   "source": [
    "twitter_archive_enhanced_clean.timestamp.dtypes"
   ]
  },
  {
   "cell_type": "markdown",
   "metadata": {},
   "source": [
    "#### Define\n",
    "Reduce rating_numerator and rating_denominator to 1 column rating(i.e num/den)"
   ]
  },
  {
   "cell_type": "markdown",
   "metadata": {},
   "source": [
    "#### Code"
   ]
  },
  {
   "cell_type": "code",
   "execution_count": 17,
   "metadata": {},
   "outputs": [],
   "source": [
    "#divide the numerator by denominator and round up to 1d.p\n",
    "twitter_archive_enhanced_clean['rating'] = round(twitter_archive_enhanced_clean['rating_numerator']/twitter_archive_enhanced_clean['rating_denominator'], 1)\n",
    "\n",
    "#drop the numerator and denominator column\n",
    "twitter_archive_enhanced_clean = twitter_archive_enhanced_clean.drop('rating_numerator', axis=1)\n",
    "twitter_archive_enhanced_clean = twitter_archive_enhanced_clean.drop('rating_denominator', axis=1)"
   ]
  },
  {
   "cell_type": "markdown",
   "metadata": {},
   "source": [
    "#### Test"
   ]
  },
  {
   "cell_type": "code",
   "execution_count": 18,
   "metadata": {},
   "outputs": [
    {
     "data": {
      "text/plain": [
       "0    1.3\n",
       "1    1.3\n",
       "2    1.2\n",
       "3    1.3\n",
       "4    1.2\n",
       "Name: rating, dtype: float64"
      ]
     },
     "execution_count": 18,
     "metadata": {},
     "output_type": "execute_result"
    }
   ],
   "source": [
    "twitter_archive_enhanced_clean['rating'].head()"
   ]
  },
  {
   "cell_type": "markdown",
   "metadata": {},
   "source": [
    "#### Define\n",
    "reduce the 4 columns(doggo, floffer, pupper, puppo) to 1 column"
   ]
  },
  {
   "cell_type": "code",
   "execution_count": 19,
   "metadata": {},
   "outputs": [
    {
     "data": {
      "text/html": [
       "<div>\n",
       "<style scoped>\n",
       "    .dataframe tbody tr th:only-of-type {\n",
       "        vertical-align: middle;\n",
       "    }\n",
       "\n",
       "    .dataframe tbody tr th {\n",
       "        vertical-align: top;\n",
       "    }\n",
       "\n",
       "    .dataframe thead th {\n",
       "        text-align: right;\n",
       "    }\n",
       "</style>\n",
       "<table border=\"1\" class=\"dataframe\">\n",
       "  <thead>\n",
       "    <tr style=\"text-align: right;\">\n",
       "      <th></th>\n",
       "      <th>tweet_id</th>\n",
       "      <th>timestamp</th>\n",
       "      <th>source</th>\n",
       "      <th>rating</th>\n",
       "      <th>doggo</th>\n",
       "      <th>floofer</th>\n",
       "      <th>pupper</th>\n",
       "      <th>puppo</th>\n",
       "    </tr>\n",
       "  </thead>\n",
       "  <tbody>\n",
       "    <tr>\n",
       "      <th>0</th>\n",
       "      <td>892420643555336193</td>\n",
       "      <td>2017-08-01 16:23:56</td>\n",
       "      <td>iPhone</td>\n",
       "      <td>1.3</td>\n",
       "      <td>None</td>\n",
       "      <td>None</td>\n",
       "      <td>None</td>\n",
       "      <td>None</td>\n",
       "    </tr>\n",
       "    <tr>\n",
       "      <th>1</th>\n",
       "      <td>892177421306343426</td>\n",
       "      <td>2017-08-01 00:17:27</td>\n",
       "      <td>iPhone</td>\n",
       "      <td>1.3</td>\n",
       "      <td>None</td>\n",
       "      <td>None</td>\n",
       "      <td>None</td>\n",
       "      <td>None</td>\n",
       "    </tr>\n",
       "    <tr>\n",
       "      <th>2</th>\n",
       "      <td>891815181378084864</td>\n",
       "      <td>2017-07-31 00:18:03</td>\n",
       "      <td>iPhone</td>\n",
       "      <td>1.2</td>\n",
       "      <td>None</td>\n",
       "      <td>None</td>\n",
       "      <td>None</td>\n",
       "      <td>None</td>\n",
       "    </tr>\n",
       "    <tr>\n",
       "      <th>3</th>\n",
       "      <td>891689557279858688</td>\n",
       "      <td>2017-07-30 15:58:51</td>\n",
       "      <td>iPhone</td>\n",
       "      <td>1.3</td>\n",
       "      <td>None</td>\n",
       "      <td>None</td>\n",
       "      <td>None</td>\n",
       "      <td>None</td>\n",
       "    </tr>\n",
       "    <tr>\n",
       "      <th>4</th>\n",
       "      <td>891327558926688256</td>\n",
       "      <td>2017-07-29 16:00:24</td>\n",
       "      <td>iPhone</td>\n",
       "      <td>1.2</td>\n",
       "      <td>None</td>\n",
       "      <td>None</td>\n",
       "      <td>None</td>\n",
       "      <td>None</td>\n",
       "    </tr>\n",
       "  </tbody>\n",
       "</table>\n",
       "</div>"
      ],
      "text/plain": [
       "             tweet_id           timestamp  source  rating doggo floofer  \\\n",
       "0  892420643555336193 2017-08-01 16:23:56  iPhone     1.3  None    None   \n",
       "1  892177421306343426 2017-08-01 00:17:27  iPhone     1.3  None    None   \n",
       "2  891815181378084864 2017-07-31 00:18:03  iPhone     1.2  None    None   \n",
       "3  891689557279858688 2017-07-30 15:58:51  iPhone     1.3  None    None   \n",
       "4  891327558926688256 2017-07-29 16:00:24  iPhone     1.2  None    None   \n",
       "\n",
       "  pupper puppo  \n",
       "0   None  None  \n",
       "1   None  None  \n",
       "2   None  None  \n",
       "3   None  None  \n",
       "4   None  None  "
      ]
     },
     "execution_count": 19,
     "metadata": {},
     "output_type": "execute_result"
    }
   ],
   "source": [
    "#first re-arramge column order for clarity\n",
    "twitter_archive_enhanced_clean = twitter_archive_enhanced_clean[['tweet_id','timestamp','source','rating','doggo','floofer','pupper','puppo']]\n",
    "\n",
    "twitter_archive_enhanced_clean.head()"
   ]
  },
  {
   "cell_type": "markdown",
   "metadata": {},
   "source": [
    "#### Code"
   ]
  },
  {
   "cell_type": "code",
   "execution_count": 20,
   "metadata": {},
   "outputs": [],
   "source": [
    "twitter_archive_enhanced_clean = pd.melt(twitter_archive_enhanced_clean, \n",
    "                                         id_vars=['tweet_id','timestamp','source','rating'], \n",
    "                                         value_name='dog_type')\n",
    "\n",
    "twitter_archive_enhanced_clean = twitter_archive_enhanced_clean[twitter_archive_enhanced_clean['dog_type']!='None']\n",
    "\n",
    "twitter_archive_enhanced_clean = twitter_archive_enhanced_clean.drop('variable', axis=1)"
   ]
  },
  {
   "cell_type": "markdown",
   "metadata": {},
   "source": [
    "#### Test"
   ]
  },
  {
   "cell_type": "code",
   "execution_count": 21,
   "metadata": {},
   "outputs": [
    {
     "data": {
      "text/html": [
       "<div>\n",
       "<style scoped>\n",
       "    .dataframe tbody tr th:only-of-type {\n",
       "        vertical-align: middle;\n",
       "    }\n",
       "\n",
       "    .dataframe tbody tr th {\n",
       "        vertical-align: top;\n",
       "    }\n",
       "\n",
       "    .dataframe thead th {\n",
       "        text-align: right;\n",
       "    }\n",
       "</style>\n",
       "<table border=\"1\" class=\"dataframe\">\n",
       "  <thead>\n",
       "    <tr style=\"text-align: right;\">\n",
       "      <th></th>\n",
       "      <th>tweet_id</th>\n",
       "      <th>timestamp</th>\n",
       "      <th>source</th>\n",
       "      <th>rating</th>\n",
       "      <th>dog_type</th>\n",
       "    </tr>\n",
       "  </thead>\n",
       "  <tbody>\n",
       "    <tr>\n",
       "      <th>5934</th>\n",
       "      <td>672622327801233409</td>\n",
       "      <td>2015-12-04 03:43:54</td>\n",
       "      <td>iPhone</td>\n",
       "      <td>1.2</td>\n",
       "      <td>pupper</td>\n",
       "    </tr>\n",
       "    <tr>\n",
       "      <th>5752</th>\n",
       "      <td>677269281705472000</td>\n",
       "      <td>2015-12-16 23:29:14</td>\n",
       "      <td>iPhone</td>\n",
       "      <td>1.0</td>\n",
       "      <td>pupper</td>\n",
       "    </tr>\n",
       "    <tr>\n",
       "      <th>5028</th>\n",
       "      <td>743222593470234624</td>\n",
       "      <td>2016-06-15 23:24:09</td>\n",
       "      <td>iPhone</td>\n",
       "      <td>1.2</td>\n",
       "      <td>pupper</td>\n",
       "    </tr>\n",
       "    <tr>\n",
       "      <th>5639</th>\n",
       "      <td>681891461017812993</td>\n",
       "      <td>2015-12-29 17:36:07</td>\n",
       "      <td>iPhone</td>\n",
       "      <td>1.0</td>\n",
       "      <td>pupper</td>\n",
       "    </tr>\n",
       "    <tr>\n",
       "      <th>5308</th>\n",
       "      <td>705428427625635840</td>\n",
       "      <td>2016-03-03 16:23:38</td>\n",
       "      <td>iPhone</td>\n",
       "      <td>1.1</td>\n",
       "      <td>pupper</td>\n",
       "    </tr>\n",
       "    <tr>\n",
       "      <th>554</th>\n",
       "      <td>782747134529531904</td>\n",
       "      <td>2016-10-03 01:00:34</td>\n",
       "      <td>iPhone</td>\n",
       "      <td>1.1</td>\n",
       "      <td>doggo</td>\n",
       "    </tr>\n",
       "    <tr>\n",
       "      <th>5534</th>\n",
       "      <td>687704180304273409</td>\n",
       "      <td>2016-01-14 18:33:48</td>\n",
       "      <td>iPhone</td>\n",
       "      <td>0.9</td>\n",
       "      <td>pupper</td>\n",
       "    </tr>\n",
       "    <tr>\n",
       "      <th>4907</th>\n",
       "      <td>756939218950160384</td>\n",
       "      <td>2016-07-23 19:49:07</td>\n",
       "      <td>iPhone</td>\n",
       "      <td>1.2</td>\n",
       "      <td>pupper</td>\n",
       "    </tr>\n",
       "    <tr>\n",
       "      <th>5761</th>\n",
       "      <td>676936541936185344</td>\n",
       "      <td>2015-12-16 01:27:03</td>\n",
       "      <td>iPhone</td>\n",
       "      <td>0.8</td>\n",
       "      <td>pupper</td>\n",
       "    </tr>\n",
       "    <tr>\n",
       "      <th>6402</th>\n",
       "      <td>867421006826221569</td>\n",
       "      <td>2017-05-24 16:44:18</td>\n",
       "      <td>iPhone</td>\n",
       "      <td>1.2</td>\n",
       "      <td>puppo</td>\n",
       "    </tr>\n",
       "  </tbody>\n",
       "</table>\n",
       "</div>"
      ],
      "text/plain": [
       "                tweet_id           timestamp  source  rating dog_type\n",
       "5934  672622327801233409 2015-12-04 03:43:54  iPhone     1.2   pupper\n",
       "5752  677269281705472000 2015-12-16 23:29:14  iPhone     1.0   pupper\n",
       "5028  743222593470234624 2016-06-15 23:24:09  iPhone     1.2   pupper\n",
       "5639  681891461017812993 2015-12-29 17:36:07  iPhone     1.0   pupper\n",
       "5308  705428427625635840 2016-03-03 16:23:38  iPhone     1.1   pupper\n",
       "554   782747134529531904 2016-10-03 01:00:34  iPhone     1.1    doggo\n",
       "5534  687704180304273409 2016-01-14 18:33:48  iPhone     0.9   pupper\n",
       "4907  756939218950160384 2016-07-23 19:49:07  iPhone     1.2   pupper\n",
       "5761  676936541936185344 2015-12-16 01:27:03  iPhone     0.8   pupper\n",
       "6402  867421006826221569 2017-05-24 16:44:18  iPhone     1.2    puppo"
      ]
     },
     "execution_count": 21,
     "metadata": {},
     "output_type": "execute_result"
    }
   ],
   "source": [
    "twitter_archive_enhanced_clean.sample(10)"
   ]
  },
  {
   "cell_type": "markdown",
   "metadata": {},
   "source": [
    "#### Define\n",
    "Change timestamp to datetime format and extract year, month and day"
   ]
  },
  {
   "cell_type": "markdown",
   "metadata": {},
   "source": [
    "#### Code"
   ]
  },
  {
   "cell_type": "code",
   "execution_count": 22,
   "metadata": {},
   "outputs": [],
   "source": [
    "#change datatype from string to datetime format\n",
    "twitter_archive_enhanced_clean['timestamp'] = pd.to_datetime(twitter_archive_enhanced_clean['timestamp'])\n",
    "\n",
    "#Create new column to extract year, month & day\n",
    "twitter_archive_enhanced_clean['year'] = twitter_archive_enhanced_clean['timestamp'].dt.year\n",
    "twitter_archive_enhanced_clean['month'] = twitter_archive_enhanced_clean['timestamp'].dt.month_name()\n",
    "twitter_archive_enhanced_clean['weekday'] =twitter_archive_enhanced_clean['timestamp'].dt.weekday_name\n"
   ]
  },
  {
   "cell_type": "markdown",
   "metadata": {},
   "source": [
    "### Test"
   ]
  },
  {
   "cell_type": "code",
   "execution_count": 23,
   "metadata": {},
   "outputs": [
    {
     "data": {
      "text/html": [
       "<div>\n",
       "<style scoped>\n",
       "    .dataframe tbody tr th:only-of-type {\n",
       "        vertical-align: middle;\n",
       "    }\n",
       "\n",
       "    .dataframe tbody tr th {\n",
       "        vertical-align: top;\n",
       "    }\n",
       "\n",
       "    .dataframe thead th {\n",
       "        text-align: right;\n",
       "    }\n",
       "</style>\n",
       "<table border=\"1\" class=\"dataframe\">\n",
       "  <thead>\n",
       "    <tr style=\"text-align: right;\">\n",
       "      <th></th>\n",
       "      <th>tweet_id</th>\n",
       "      <th>timestamp</th>\n",
       "      <th>source</th>\n",
       "      <th>rating</th>\n",
       "      <th>dog_type</th>\n",
       "      <th>year</th>\n",
       "      <th>month</th>\n",
       "      <th>weekday</th>\n",
       "    </tr>\n",
       "  </thead>\n",
       "  <tbody>\n",
       "    <tr>\n",
       "      <th>9</th>\n",
       "      <td>890240255349198849</td>\n",
       "      <td>2017-07-26 15:59:51</td>\n",
       "      <td>iPhone</td>\n",
       "      <td>1.4</td>\n",
       "      <td>doggo</td>\n",
       "      <td>2017</td>\n",
       "      <td>July</td>\n",
       "      <td>Wednesday</td>\n",
       "    </tr>\n",
       "    <tr>\n",
       "      <th>39</th>\n",
       "      <td>884162670584377345</td>\n",
       "      <td>2017-07-09 21:29:42</td>\n",
       "      <td>iPhone</td>\n",
       "      <td>1.2</td>\n",
       "      <td>doggo</td>\n",
       "      <td>2017</td>\n",
       "      <td>July</td>\n",
       "      <td>Sunday</td>\n",
       "    </tr>\n",
       "    <tr>\n",
       "      <th>86</th>\n",
       "      <td>872967104147763200</td>\n",
       "      <td>2017-06-09 00:02:31</td>\n",
       "      <td>iPhone</td>\n",
       "      <td>1.2</td>\n",
       "      <td>doggo</td>\n",
       "      <td>2017</td>\n",
       "      <td>June</td>\n",
       "      <td>Friday</td>\n",
       "    </tr>\n",
       "    <tr>\n",
       "      <th>94</th>\n",
       "      <td>871515927908634625</td>\n",
       "      <td>2017-06-04 23:56:03</td>\n",
       "      <td>iPhone</td>\n",
       "      <td>1.2</td>\n",
       "      <td>doggo</td>\n",
       "      <td>2017</td>\n",
       "      <td>June</td>\n",
       "      <td>Sunday</td>\n",
       "    </tr>\n",
       "    <tr>\n",
       "      <th>95</th>\n",
       "      <td>871102520638267392</td>\n",
       "      <td>2017-06-03 20:33:19</td>\n",
       "      <td>iPhone</td>\n",
       "      <td>1.4</td>\n",
       "      <td>doggo</td>\n",
       "      <td>2017</td>\n",
       "      <td>June</td>\n",
       "      <td>Saturday</td>\n",
       "    </tr>\n",
       "  </tbody>\n",
       "</table>\n",
       "</div>"
      ],
      "text/plain": [
       "              tweet_id           timestamp  source  rating dog_type  year  \\\n",
       "9   890240255349198849 2017-07-26 15:59:51  iPhone     1.4    doggo  2017   \n",
       "39  884162670584377345 2017-07-09 21:29:42  iPhone     1.2    doggo  2017   \n",
       "86  872967104147763200 2017-06-09 00:02:31  iPhone     1.2    doggo  2017   \n",
       "94  871515927908634625 2017-06-04 23:56:03  iPhone     1.2    doggo  2017   \n",
       "95  871102520638267392 2017-06-03 20:33:19  iPhone     1.4    doggo  2017   \n",
       "\n",
       "   month    weekday  \n",
       "9   July  Wednesday  \n",
       "39  July     Sunday  \n",
       "86  June     Friday  \n",
       "94  June     Sunday  \n",
       "95  June   Saturday  "
      ]
     },
     "execution_count": 23,
     "metadata": {},
     "output_type": "execute_result"
    }
   ],
   "source": [
    "twitter_archive_enhanced_clean.head()"
   ]
  },
  {
   "cell_type": "markdown",
   "metadata": {},
   "source": [
    "## Storing Data\n",
    "Save gathered, assessed, and cleaned master dataset to a CSV file named \"twitter_archive_master.csv\"."
   ]
  },
  {
   "cell_type": "code",
   "execution_count": 24,
   "metadata": {},
   "outputs": [],
   "source": [
    "twitter_archive_enhanced_clean.to_csv(\"twitter_archive_master.csv\", index=False)"
   ]
  },
  {
   "cell_type": "markdown",
   "metadata": {},
   "source": [
    "## Analyzing and Visualizing Data\n",
    "In this section, analyze and visualize your wrangled data. You must produce at least **three (3) insights and one (1) visualization.**"
   ]
  },
  {
   "cell_type": "code",
   "execution_count": 25,
   "metadata": {},
   "outputs": [],
   "source": [
    "import pandas as pd\n",
    "import seaborn as sns\n",
    "import matplotlib.pyplot as plt"
   ]
  },
  {
   "cell_type": "code",
   "execution_count": 26,
   "metadata": {},
   "outputs": [],
   "source": [
    "#import the cleaned dataset\n",
    "df = pd.read_csv(\"twitter_archive_master.csv\")\n",
    "\n",
    "#define my color template\n",
    "mycolor = sns.color_palette()[0]"
   ]
  },
  {
   "cell_type": "markdown",
   "metadata": {},
   "source": [
    "##### It was noticed that PUPPER dogs had the most tweet while FLOOFER dogs had the least amount of tweets"
   ]
  },
  {
   "cell_type": "code",
   "execution_count": 27,
   "metadata": {},
   "outputs": [
    {
     "data": {
      "image/png": "[encoded data removed]",
      "text/plain": [
       "<matplotlib.figure.Figure at 0x7f42d82e2b70>"
      ]
     },
     "metadata": {
      "needs_background": "light"
     },
     "output_type": "display_data"
    }
   ],
   "source": [
    "sns.countplot(data=df, y='dog_type', color=mycolor)\n",
    "plt.title(\"DOG TYPE vs TOTAL\")\n",
    "plt.xlabel(\"Total Tweets\");"
   ]
  },
  {
   "cell_type": "markdown",
   "metadata": {},
   "source": [
    "##### It was observed that PUPPER that had the most tweet conversely had the LOWEST RATING while <br> PUPPER that was 2nd least tweeted had the best rating next to DOGGO"
   ]
  },
  {
   "cell_type": "code",
   "execution_count": 28,
   "metadata": {},
   "outputs": [
    {
     "data": {
      "image/png": "[encoded data removed]",
      "text/plain": [
       "<matplotlib.figure.Figure at 0x7f42d82ffdd8>"
      ]
     },
     "metadata": {
      "needs_background": "light"
     },
     "output_type": "display_data"
    }
   ],
   "source": [
    "plt.figure(figsize=(15,4))\n",
    "sns.boxplot(data=df, x='rating', y='dog_type', color=mycolor)\n",
    "plt.title(\"DOG TYPE vs RATING\");"
   ]
  },
  {
   "cell_type": "markdown",
   "metadata": {},
   "source": [
    "##### It was also noticed that of all the dog types, only PUPPER dog type was tweeted in the 1st year(2015).<br> Further insights proved that in 2016 DOGGO dog type had the most tweets but drastically dropped in 2017 while DOGGO dog type had the most tweets tweet in 2017"
   ]
  },
  {
   "cell_type": "code",
   "execution_count": 29,
   "metadata": {},
   "outputs": [
    {
     "data": {
      "image/png": "[encoded data removed]",
      "text/plain": [
       "<matplotlib.figure.Figure at 0x7f42d61b22e8>"
      ]
     },
     "metadata": {
      "needs_background": "light"
     },
     "output_type": "display_data"
    }
   ],
   "source": [
    "plt.figure(figsize=(15,5))\n",
    "sns.countplot(data=df, x='year', hue='dog_type')\n",
    "plt.title(\"TOTAL DOG-TYPE FOR EACH YEAR\")\n",
    "plt.ylabel(\"Total Tweets\");"
   ]
  },
  {
   "cell_type": "markdown",
   "metadata": {},
   "source": [
    "##### It was also observed that most tweet were performed by iPhone users while the least tweet was performed on the website"
   ]
  },
  {
   "cell_type": "code",
   "execution_count": 30,
   "metadata": {},
   "outputs": [
    {
     "data": {
      "image/png": "[encoded data removed]",
      "text/plain": [
       "<matplotlib.figure.Figure at 0x7f42d616ae10>"
      ]
     },
     "metadata": {
      "needs_background": "light"
     },
     "output_type": "display_data"
    }
   ],
   "source": [
    "sns.countplot(data=df, x='source', color=mycolor)\n",
    "plt.title(\"USERS PLATFORM TWEETS\")\n",
    "plt.ylabel(\"Total Tweets\");"
   ]
  },
  {
   "cell_type": "markdown",
   "metadata": {},
   "source": [
    "##### It was also observed that approximately 50% of all We Rate Dog tweets were done in December, January and February with the most tweet in the month of December with the least total tweets in the month of August"
   ]
  },
  {
   "cell_type": "code",
   "execution_count": 31,
   "metadata": {},
   "outputs": [
    {
     "data": {
      "image/png": "[encoded data removed]",
      "text/plain": [
       "<matplotlib.figure.Figure at 0x7f42d616ad68>"
      ]
     },
     "metadata": {},
     "output_type": "display_data"
    }
   ],
   "source": [
    "sorted_month = df['month'].value_counts()\n",
    "explode = [0.2,0.2,0.2,0.05,0.05,0.05,0.05,0.05,0.05,0.05,0.05,0.05]\n",
    "color = [mycolor,mycolor,mycolor,'#8f8f89','#8f8f89','#8f8f89',\n",
    "          '#8f8f89','#8f8f89','#8f8f89','#8f8f89','#8f8f89','#8f8f89']\n",
    "\n",
    "plt.pie(sorted_month, labels=sorted_month.index, startangle=0, \n",
    "            explode=explode, autopct='%.0f%%',\n",
    "           colors=color)\n",
    "plt.axis('square')\n",
    "plt.title(\"% OF MONTHLY TWEETS\");"
   ]
  },
  {
   "cell_type": "markdown",
   "metadata": {},
   "source": [
    "##### I noticed that approximately 60% of all We Rate Dog tweets were made by users in the year 2016 with the remaining 40% shared almost equally between the previous year(2015) and the following year(2017)"
   ]
  },
  {
   "cell_type": "code",
   "execution_count": 32,
   "metadata": {},
   "outputs": [
    {
     "data": {
      "image/png": "[encoded data removed]",
      "text/plain": [
       "<matplotlib.figure.Figure at 0x7f42d60e97b8>"
      ]
     },
     "metadata": {},
     "output_type": "display_data"
    }
   ],
   "source": [
    "year = df.year.value_counts()\n",
    "color = [mycolor,'#8f8f89','#8f8f89']\n",
    "explode = [0.1,0.01,0.01]\n",
    "plt.pie(year, labels=year.index, colors=color, autopct='%.0f%%', startangle=70, explode=explode)\n",
    "plt.axis('square')\n",
    "plt.title(\"% OF YEARLY TWEETS\");"
   ]
  },
  {
   "cell_type": "markdown",
   "metadata": {},
   "source": [
    "##### Further insights into each year's demography also confirms that iPhone Users tweeted the most all through the year, Website users only tweeted in 2017 while Tweet-Deck and Vine App Users tweeted in 2015 and 2016 and not in 2017"
   ]
  },
  {
   "cell_type": "code",
   "execution_count": 33,
   "metadata": {},
   "outputs": [
    {
     "data": {
      "image/png": "[encoded data removed]",
      "text/plain": [
       "<matplotlib.figure.Figure at 0x7f42d6100438>"
      ]
     },
     "metadata": {
      "needs_background": "light"
     },
     "output_type": "display_data"
    }
   ],
   "source": [
    "plt.figure(figsize=(15,5))\n",
    "sns.countplot(data=df, x='year', hue='source')\n",
    "plt.xlabel('YEAR')\n",
    "plt.ylabel(\"No. of Users\")\n",
    "plt.title(\"TWEET SOURCE TOTAL FOR EACH YEAR\");"
   ]
  },
  {
   "cell_type": "markdown",
   "metadata": {},
   "source": [
    "##### Analysis on frequency of tweets on daily basis proved that Fridays and Sundays had the lowest tweets amongst the 7 days of the week"
   ]
  },
  {
   "cell_type": "code",
   "execution_count": 34,
   "metadata": {},
   "outputs": [
    {
     "data": {
      "image/png": "[encoded data removed]",
      "text/plain": [
       "<matplotlib.figure.Figure at 0x7f42d61000b8>"
      ]
     },
     "metadata": {
      "needs_background": "light"
     },
     "output_type": "display_data"
    }
   ],
   "source": [
    "sns.countplot(data=df, y='weekday', color=mycolor)\n",
    "plt.xlabel(\"Total Tweets\")\n",
    "plt.title(\"TOTAL TWEETS FOR EACH DAY OF THE WEEK\");"
   ]
  },
  {
   "cell_type": "markdown",
   "metadata": {},
   "source": [
    "##### ....................... THANK YOU ......................................"
   ]
  }
 ],
 "metadata": {
  "extensions": {
   "jupyter_dashboards": {
    "activeView": "report_default",
    "version": 1,
    "views": {
     "grid_default": {
      "cellMargin": 10,
      "defaultCellHeight": 20,
      "maxColumns": 12,
      "name": "grid",
      "type": "grid"
     },
     "report_default": {
      "name": "report",
      "type": "report"
     }
    }
   }
  },
  "kernelspec": {
   "display_name": "Python 3",
   "language": "python",
   "name": "python3"
  },
  "language_info": {
   "codemirror_mode": {
    "name": "ipython",
    "version": 3
   },
   "file_extension": ".py",
   "mimetype": "text/x-python",
   "name": "python",
   "nbconvert_exporter": "python",
   "pygments_lexer": "ipython3",
   "version": "3.6.3"
  }
 },
 "nbformat": 4,
 "nbformat_minor": 2
}
