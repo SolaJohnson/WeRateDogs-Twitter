{
 "cells": [
  {
   "cell_type": "markdown",
   "metadata": {},
   "source": [
    "## Wrangle Report: WeRateDogs"
   ]
  },
  {
   "cell_type": "markdown",
   "metadata": {},
   "source": [
    "The 3 main steps I took in data wrangling include the following:\n",
    "\n",
    "### Step 1:  Data Gathering\n",
    "During data gathering phase. I gathered 3 datsets for this project. The first file (”tweeter_archived_enhanced.csv”), so I directly downloaded it manually, uploaded and read it into a Pandas DataFrame. \n",
    "\n",
    "The second file (“image_predictions.tsv”) was hosted in Udacity’s server; I downloaded programmatically using the Request library. I then read it into a Pandas DataFrame.\n",
    "\n",
    "For the third file, I used Tweepy library to query additional data via the Twitter API. Twitter data are stored in JSON format. I then extracted the text content for each Tweet ID and stored it in a TXT format. The TXT file was read line by line into a pandas DataFrame with tweet ID, retweet count and favorite count\n",
    "\n",
    "### Step 2: Assessing Data\n",
    "During data assessment, the gathered datasets were then visually and programmatically assessed for quality and tidiness issues. I detected that there were so many missing records, inaccurate data, irrelevant columns, inappropriate column headers, invalid data and wrong data format. I also noticed that one variable column is spread across 4 columns. \n",
    "\n",
    "Some column headers are values and not variable names. some rating_denominators are far greater than 10 likewise some rating_numerators are far greater than 10. some missing dog name. some missing dog type. some dog names are articles(a,an,the). some expanded_urls are not twitter domain names\n",
    "\n",
    "### Step 3: Cleaning Data\n",
    "The next phase of my wrangling exercise, I dropped all retweets records and I also dropped unused columns. Some users rating were far beyond the 10/10 standard so I had to convert all users' rating to a decimal fraction. I did this by dividing the numerator_rating column by the denominator_rating column. \n",
    "\n",
    "I cleaned the source column by creating a function to return the tweet source from the html anchor tag. I also removed all retweet rows and dropped all columns associated with retweets. I further changed the column types of some columns for easy data manipulation. I melted the doggo, floffer, pupper and puppo columns into one column. I also dropped records with missing dog type. \n",
    "\n",
    "Finally, the cleaned dataset was converted to a CSV file."
   ]
  },
  {
   "cell_type": "markdown",
   "metadata": {},
   "source": [
    "##### ................. THANK YOU ....................."
   ]
  }
 ],
 "metadata": {
  "kernelspec": {
   "display_name": "Python 3",
   "language": "python",
   "name": "python3"
  },
  "language_info": {
   "codemirror_mode": {
    "name": "ipython",
    "version": 3
   },
   "file_extension": ".py",
   "mimetype": "text/x-python",
   "name": "python",
   "nbconvert_exporter": "python",
   "pygments_lexer": "ipython3",
   "version": "3.6.3"
  }
 },
 "nbformat": 4,
 "nbformat_minor": 2
}
